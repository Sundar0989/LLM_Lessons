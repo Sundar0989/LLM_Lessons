{
 "cells": [
  {
   "cell_type": "code",
   "execution_count": 1,
   "metadata": {},
   "outputs": [
    {
     "data": {
      "text/plain": [
       "True"
      ]
     },
     "execution_count": 1,
     "metadata": {},
     "output_type": "execute_result"
    }
   ],
   "source": [
    "from dotenv import load_dotenv\n",
    "# Load environment variables from .env file\n",
    "load_dotenv()"
   ]
  },
  {
   "cell_type": "code",
   "execution_count": 2,
   "metadata": {},
   "outputs": [],
   "source": [
    "import os\n",
    "from openai import OpenAI\n",
    "import openai\n",
    "\n",
    "# Set the \"OPENAI_API_KEY\" in the Python environment. Will be used by OpenAI client later.\n",
    "# Remember to replace placeholder with your API key.\n",
    "# Retrieve the API key from the environment variable\n",
    "api_key = os.getenv('OPENAI_API_KEY')\n",
    "# Set the API key for the OpenAI client\n",
    "openai.api_key = api_key\n",
    "organization_value = os.getenv('ORGANIZATION')\n",
    "project_value = os.getenv('PROJECT')"
   ]
  },
  {
   "cell_type": "code",
   "execution_count": 3,
   "metadata": {},
   "outputs": [],
   "source": [
    "# Defining the \"client\" object that enables\n",
    "# us to connect to OpenAI API endpoints.\n",
    "client = OpenAI(organization=organization_value, project=project_value)"
   ]
  },
  {
   "cell_type": "code",
   "execution_count": 4,
   "metadata": {},
   "outputs": [],
   "source": [
    "def ask_ai_tutor(question):\n",
    "    try:\n",
    "        # Formulating the system prompt and condition the model to answer only AI-related questions.\n",
    "        system_prompt = (\n",
    "            \"You are an AI tutor specialized in answering artificial intelligence-related questions. \"\n",
    "            \"Only answer AI-related question, else say that you cannot answer this question.\"\n",
    "        )\n",
    "\n",
    "        # Create a user prompt with the user's question\n",
    "        prompt = f\"Please provide an informative and accurate answer to the following question.\\nQuestion: {question}\\nAnswer:\"\n",
    "\n",
    "        # Call the OpenAI API\n",
    "        response = client.chat.completions.create(\n",
    "            model=\"gpt-4o-mini\",\n",
    "            temperature=0,\n",
    "            messages=[\n",
    "                {\"role\": \"system\", \"content\": system_prompt},\n",
    "                {\"role\": \"user\", \"content\": prompt},\n",
    "            ],\n",
    "        )\n",
    "\n",
    "        # Return the AI's response\n",
    "        return response.choices[0].message.content.strip()\n",
    "\n",
    "    except Exception as e:\n",
    "        return f\"An error occurred: {e}\""
   ]
  },
  {
   "cell_type": "code",
   "execution_count": 5,
   "metadata": {},
   "outputs": [
    {
     "name": "stdout",
     "output_type": "stream",
     "text": [
      "Some famous artificial intelligence frameworks include:\n",
      "\n",
      "1. **TensorFlow**: An open-source library developed by Google for numerical computation and machine learning, widely used for deep learning applications.\n",
      "\n",
      "2. **PyTorch**: An open-source machine learning library developed by Facebook's AI Research lab, known for its flexibility and ease of use, particularly in research.\n",
      "\n",
      "3. **Keras**: A high-level neural networks API, written in Python and capable of running on top of TensorFlow, Theano, or Microsoft Cognitive Toolkit (CNTK).\n",
      "\n",
      "4. **Scikit-learn**: A Python library for machine learning that provides simple and efficient tools for data mining and data analysis, built on NumPy, SciPy, and Matplotlib.\n",
      "\n",
      "5. **Caffe**: A deep learning framework made with expression, speed, and modularity in mind, developed by the Berkeley Vision and Learning Center (BVLC).\n",
      "\n",
      "6. **MXNet**: A flexible and efficient deep learning framework that supports both symbolic and imperative programming, developed by Apache.\n",
      "\n",
      "7. **Chainer**: A Python-based deep learning framework that allows for dynamic computation graphs, making it easier to work with complex architectures.\n",
      "\n",
      "8. **Fastai**: A library built on top of PyTorch that simplifies training neural networks and provides high-level components for building models quickly.\n",
      "\n",
      "These frameworks are widely used in both academia and industry for various AI applications, including computer vision, natural language processing, and reinforcement learning.\n"
     ]
    }
   ],
   "source": [
    "# Define a question which is related to AI topic.\n",
    "QUESTION_AI = \"List a number of famous artificial intelligence frameworks?\"\n",
    "\n",
    "# Ask the AI-related question.\n",
    "RES_AI = ask_ai_tutor(QUESTION_AI)\n",
    "print(RES_AI)"
   ]
  },
  {
   "cell_type": "code",
   "execution_count": 6,
   "metadata": {},
   "outputs": [
    {
     "name": "stdout",
     "output_type": "stream",
     "text": [
      "I cannot answer this question.\n"
     ]
    }
   ],
   "source": [
    "# Define a question which is NOT related to AI topic.\n",
    "QUESTION_NOT_AI = \"What is the name of the highest mountain in the world and its height?\"\n",
    "\n",
    "# Ask the unrelated question.\n",
    "RES_NOT_AI = ask_ai_tutor(QUESTION_NOT_AI)\n",
    "print(RES_NOT_AI)"
   ]
  },
  {
   "cell_type": "code",
   "execution_count": 7,
   "metadata": {},
   "outputs": [
    {
     "name": "stdout",
     "output_type": "stream",
     "text": [
      "TensorFlow is an open-source machine learning framework developed by Google that facilitates numerical computation and deep learning. It provides a comprehensive ecosystem of tools, libraries, and community resources that enable researchers and developers to build and deploy machine learning models efficiently. TensorFlow supports a variety of tasks, including neural network training and inference, and is designed to run on multiple platforms, including CPUs, GPUs, and TPUs. Its flexible architecture allows for easy model building and experimentation, making it popular in both academic research and industry applications. TensorFlow also includes high-level APIs like Keras for simplified model development.\n"
     ]
    }
   ],
   "source": [
    "response = client.chat.completions.create(\n",
    "    model=\"gpt-4o-mini\",\n",
    "    temperature=0,\n",
    "    messages=[\n",
    "        {\n",
    "            \"role\": \"system\",\n",
    "            \"content\": \"You are an AI tutor specialized in answering artificial intelligence-related questions. Only answer AI-related question, else say that you cannot answer this question.\",\n",
    "        },\n",
    "        {\n",
    "            \"role\": \"user\",\n",
    "            \"content\": \"Please provide an informative and accurate answer to the following question.\\nQuestion: List a number of famous artificial intelligence frameworks?\\nAnswer:\",\n",
    "        },\n",
    "        {\"role\": \"assistant\", \"content\": RES_AI},\n",
    "        {\n",
    "            \"role\": \"user\",\n",
    "            \"content\": \"Please provide an informative and accurate answer to the following question.\\nQuestion: What is the name of the highest mountain in the world and its height?\\nAnswer:\",\n",
    "        },\n",
    "        {\"role\": \"assistant\", \"content\": RES_NOT_AI},\n",
    "        {\n",
    "            \"role\": \"user\",\n",
    "            \"content\": \"Please provide an informative and accurate answer to the following question.\\nQuestion: Can you write a summary of the first suggested AI framework in the first question?\\nAnswer:\",\n",
    "        },\n",
    "    ],\n",
    ")\n",
    "\n",
    "print(response.choices[0].message.content.strip())"
   ]
  },
  {
   "cell_type": "code",
   "execution_count": null,
   "metadata": {},
   "outputs": [],
   "source": []
  }
 ],
 "metadata": {
  "kernelspec": {
   "display_name": "base",
   "language": "python",
   "name": "python3"
  },
  "language_info": {
   "codemirror_mode": {
    "name": "ipython",
    "version": 3
   },
   "file_extension": ".py",
   "mimetype": "text/x-python",
   "name": "python",
   "nbconvert_exporter": "python",
   "pygments_lexer": "ipython3",
   "version": "3.12.4"
  }
 },
 "nbformat": 4,
 "nbformat_minor": 2
}
