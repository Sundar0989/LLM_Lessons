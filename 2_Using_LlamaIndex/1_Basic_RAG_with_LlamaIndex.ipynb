{
 "cells": [
  {
   "cell_type": "code",
   "execution_count": null,
   "metadata": {},
   "outputs": [],
   "source": [
    "#!pip install -q openai==1.59.8 google-generativeai==0.8.3 llama-index==0.12.11 llama-index-llms-gemini==0.4.3"
   ]
  },
  {
   "cell_type": "code",
   "execution_count": 1,
   "metadata": {},
   "outputs": [
    {
     "name": "stdout",
     "output_type": "stream",
     "text": [
      "number of articles: 14\n"
     ]
    }
   ],
   "source": [
    "# Read data\n",
    "\n",
    "import csv\n",
    "\n",
    "rows = []\n",
    "\n",
    "# Load the CSV file\n",
    "with open(\"./2_Using_LlamaIndex/mini-llama-articles.csv\", mode=\"r\", encoding=\"utf-8\") as file:\n",
    "  csv_reader = csv.reader(file)\n",
    "\n",
    "  for idx, row in enumerate(csv_reader):\n",
    "    if idx == 0: continue; # Skip header row\n",
    "    rows.append(row)\n",
    "\n",
    "# The number of artickes in the dataset.\n",
    "print(\"number of articles:\", len(rows))"
   ]
  },
  {
   "cell_type": "code",
   "execution_count": 2,
   "metadata": {},
   "outputs": [],
   "source": [
    "# Load the LlamaIndex framework and create Document objects.\n",
    "from llama_index.core import Document\n",
    "\n",
    "# Convert the texts to Document objects so the LlamaIndex framework can process them.\n",
    "documents = [Document(text=row[1]) for row in rows]"
   ]
  },
  {
   "cell_type": "code",
   "execution_count": 3,
   "metadata": {},
   "outputs": [],
   "source": [
    "from dotenv import load_dotenv\n",
    "import os\n",
    "import openai\n",
    "import google.generativeai as genai\n",
    "\n",
    "# Load environment variables from .env file\n",
    "load_dotenv()\n",
    "\n",
    "api_key = os.getenv('OPENAI_API_KEY')\n",
    "# Set the API key for the OpenAI client\n",
    "openai.api_key = api_key\n",
    "\n",
    "g_api_key = os.getenv('GEMINI_API_KEY')\n",
    "genai.configure(api_key=g_api_key)"
   ]
  },
  {
   "cell_type": "code",
   "execution_count": 4,
   "metadata": {},
   "outputs": [
    {
     "data": {
      "application/vnd.jupyter.widget-view+json": {
       "model_id": "95c432b955a144038879f2a3ab765269",
       "version_major": 2,
       "version_minor": 0
      },
      "text/plain": [
       "Parsing nodes:   0%|          | 0/14 [00:00<?, ?it/s]"
      ]
     },
     "metadata": {},
     "output_type": "display_data"
    },
    {
     "data": {
      "application/vnd.jupyter.widget-view+json": {
       "model_id": "245500af49d745369a69d6a8f74ffc08",
       "version_major": 2,
       "version_minor": 0
      },
      "text/plain": [
       "Generating embeddings:   0%|          | 0/14 [00:00<?, ?it/s]"
      ]
     },
     "metadata": {},
     "output_type": "display_data"
    }
   ],
   "source": [
    "# Build index / generate embeddings using OpenAI embedding model\n",
    "from llama_index.core import VectorStoreIndex\n",
    "from llama_index.core.node_parser import SentenceSplitter\n",
    "from llama_index.embeddings.openai import OpenAIEmbedding\n",
    "\n",
    "# Build index / generate embeddings using OpenAI embedding model\n",
    "index = VectorStoreIndex.from_documents(\n",
    "    documents,\n",
    "    embed_model=OpenAIEmbedding(model=\"text-embedding-3-small\"),\n",
    "    transformations=[SentenceSplitter(chunk_size=768, chunk_overlap=64)],\n",
    "    show_progress=True,\n",
    ")"
   ]
  },
  {
   "cell_type": "code",
   "execution_count": 7,
   "metadata": {},
   "outputs": [
    {
     "name": "stdout",
     "output_type": "stream",
     "text": [
      "The LLaMA2 model has parameters ranging from 7 billion to 70 billion across its suite of models.\n"
     ]
    }
   ],
   "source": [
    "from llama_index.core import get_response_synthesizer\n",
    "from llama_index.core.retrievers import VectorIndexRetriever\n",
    "from llama_index.core.query_engine import RetrieverQueryEngine\n",
    "\n",
    "# configure retriever\n",
    "retriever = VectorIndexRetriever(\n",
    "    index=index,\n",
    "    similarity_top_k=2,\n",
    ")\n",
    "\n",
    "# configure response synthesizer\n",
    "response_synthesizer = get_response_synthesizer(\n",
    "    response_mode=\"tree_summarize\",\n",
    ")\n",
    "\n",
    "# assemble query engine\n",
    "query_engine = RetrieverQueryEngine(\n",
    "    retriever=retriever,\n",
    "    response_synthesizer=response_synthesizer,\n",
    ")\n",
    "\n",
    "# query\n",
    "response = query_engine.query(\"How many parameters does the LLaMA2 model have?\")\n",
    "print(response)"
   ]
  },
  {
   "cell_type": "code",
   "execution_count": 10,
   "metadata": {},
   "outputs": [],
   "source": [
    "# # Define a query engine that is responsible for retrieving related pieces of text,\n",
    "# # and using a LLM to formulate the final answer.\n",
    "# from llama_index.llms.gemini import Gemini\n",
    "# from llama_index.core import Settings\n",
    "# Settings.llm = Gemini(api_key=g_api_key)\n",
    "\n",
    "# llm = Gemini(model=\"models/gemini-1.5-flash\", temperature=1, max_tokens=512, api_key=g_api_key)\n",
    "\n",
    "# query_engine = index.as_query_engine(llm=llm)"
   ]
  },
  {
   "cell_type": "code",
   "execution_count": 11,
   "metadata": {},
   "outputs": [],
   "source": [
    "# # # Generate a response to a query.\n",
    "# # # Example function to handle the query and extract the response\n",
    "# # def handle_query(query_engine, query):\n",
    "# #     try:\n",
    "# #         # Perform the query\n",
    "# #         response = query_engine.query(query)\n",
    "        \n",
    "# #         # Navigate through the nested structure based on the new SDK response format\n",
    "# #         if response and 'candidates' in response and len(response['candidates']) > 0:\n",
    "# #             candidate = response['candidates'][0]\n",
    "# #             if 'content' in candidate and 'parts' in candidate['content'] and len(candidate['content']['parts']) > 0:\n",
    "# #                 text = candidate['content']['parts'][0]['text']\n",
    "# #                 return text\n",
    "# #             else:\n",
    "# #                 raise ValueError(\"Response format is incorrect or missing expected content\")\n",
    "# #         else:\n",
    "# #             raise ValueError(\"No candidates found in response\")\n",
    "    \n",
    "# #     except Exception as e:\n",
    "# #         print(f\"An error occurred: {e}\")\n",
    "# #         return None\n",
    "\n",
    "# # # Example usage\n",
    "# # query_text = \"How many parameters does the LLaMA2 model have?\"\n",
    "# # result_text = handle_query(query_engine, query_text)\n",
    "# # print(\"Query Result:\", result_text)\n",
    "\n",
    "# response = query_engine.query(\"How many parameters LLaMA2 model has?\")\n",
    "# print(response)"
   ]
  }
 ],
 "metadata": {
  "kernelspec": {
   "display_name": "base",
   "language": "python",
   "name": "python3"
  },
  "language_info": {
   "codemirror_mode": {
    "name": "ipython",
    "version": 3
   },
   "file_extension": ".py",
   "mimetype": "text/x-python",
   "name": "python",
   "nbconvert_exporter": "python",
   "pygments_lexer": "ipython3",
   "version": "3.12.4"
  }
 },
 "nbformat": 4,
 "nbformat_minor": 2
}
